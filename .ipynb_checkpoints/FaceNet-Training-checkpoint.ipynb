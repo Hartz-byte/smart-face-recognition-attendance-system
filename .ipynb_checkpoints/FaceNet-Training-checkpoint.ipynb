{
 "cells": [
  {
   "cell_type": "code",
   "execution_count": 1,
   "id": "e8ff0442-cd9b-405c-a8bb-e707ba2b06f2",
   "metadata": {},
   "outputs": [
    {
     "name": "stderr",
     "output_type": "stream",
     "text": [
      "2025-07-08 17:13:45.621362: E external/local_xla/xla/stream_executor/cuda/cuda_fft.cc:467] Unable to register cuFFT factory: Attempting to register factory for plugin cuFFT when one has already been registered\n",
      "WARNING: All log messages before absl::InitializeLog() is called are written to STDERR\n",
      "E0000 00:00:1751994826.030365    2156 cuda_dnn.cc:8579] Unable to register cuDNN factory: Attempting to register factory for plugin cuDNN when one has already been registered\n",
      "E0000 00:00:1751994826.155598    2156 cuda_blas.cc:1407] Unable to register cuBLAS factory: Attempting to register factory for plugin cuBLAS when one has already been registered\n",
      "W0000 00:00:1751994827.224650    2156 computation_placer.cc:177] computation placer already registered. Please check linkage and avoid linking the same target more than once.\n",
      "W0000 00:00:1751994827.224691    2156 computation_placer.cc:177] computation placer already registered. Please check linkage and avoid linking the same target more than once.\n",
      "W0000 00:00:1751994827.224695    2156 computation_placer.cc:177] computation placer already registered. Please check linkage and avoid linking the same target more than once.\n",
      "W0000 00:00:1751994827.224698    2156 computation_placer.cc:177] computation placer already registered. Please check linkage and avoid linking the same target more than once.\n",
      "2025-07-08 17:13:47.365633: I tensorflow/core/platform/cpu_feature_guard.cc:210] This TensorFlow binary is optimized to use available CPU instructions in performance-critical operations.\n",
      "To enable the following instructions: AVX2 FMA, in other operations, rebuild TensorFlow with the appropriate compiler flags.\n"
     ]
    },
    {
     "name": "stdout",
     "output_type": "stream",
     "text": [
      "Num GPUs Available:  1\n"
     ]
    }
   ],
   "source": [
    "import tensorflow as tf\n",
    "print(\"Num GPUs Available: \", len(tf.config.list_physical_devices('GPU')))"
   ]
  },
  {
   "cell_type": "code",
   "execution_count": 2,
   "id": "6c5ed6fe-96b5-4cc6-b498-5d42e4407290",
   "metadata": {},
   "outputs": [
    {
     "name": "stderr",
     "output_type": "stream",
     "text": [
      "/mnt/d/ML/Projects/smart-face-recognition-attendance-system/facenet-env/lib/python3.12/site-packages/tqdm/auto.py:21: TqdmWarning: IProgress not found. Please update jupyter and ipywidgets. See https://ipywidgets.readthedocs.io/en/stable/user_install.html\n",
      "  from .autonotebook import tqdm as notebook_tqdm\n"
     ]
    }
   ],
   "source": [
    "# Imports\n",
    "import torch\n",
    "from torchvision import transforms\n",
    "from PIL import Image\n",
    "import os\n",
    "import cv2\n",
    "import numpy as np\n",
    "import pandas as pd\n",
    "from datetime import datetime\n",
    "from transformers import AutoFeatureExtractor, AutoModel\n",
    "import streamlit as st"
   ]
  },
  {
   "cell_type": "code",
   "execution_count": 3,
   "id": "3c70619c-71b9-473d-81a9-527902f2be15",
   "metadata": {},
   "outputs": [
    {
     "name": "stderr",
     "output_type": "stream",
     "text": [
      "/mnt/d/ML/Projects/smart-face-recognition-attendance-system/facenet-env/lib/python3.12/site-packages/transformers/models/vit/feature_extraction_vit.py:30: FutureWarning: The class ViTFeatureExtractor is deprecated and will be removed in version 5 of Transformers. Please use ViTImageProcessor instead.\n",
      "  warnings.warn(\n",
      "Some weights of ViTModel were not initialized from the model checkpoint at google/vit-base-patch16-224 and are newly initialized: ['pooler.dense.bias', 'pooler.dense.weight']\n",
      "You should probably TRAIN this model on a down-stream task to be able to use it for predictions and inference.\n"
     ]
    },
    {
     "data": {
      "text/plain": [
       "ViTModel(\n",
       "  (embeddings): ViTEmbeddings(\n",
       "    (patch_embeddings): ViTPatchEmbeddings(\n",
       "      (projection): Conv2d(3, 768, kernel_size=(16, 16), stride=(16, 16))\n",
       "    )\n",
       "    (dropout): Dropout(p=0.0, inplace=False)\n",
       "  )\n",
       "  (encoder): ViTEncoder(\n",
       "    (layer): ModuleList(\n",
       "      (0-11): 12 x ViTLayer(\n",
       "        (attention): ViTAttention(\n",
       "          (attention): ViTSelfAttention(\n",
       "            (query): Linear(in_features=768, out_features=768, bias=True)\n",
       "            (key): Linear(in_features=768, out_features=768, bias=True)\n",
       "            (value): Linear(in_features=768, out_features=768, bias=True)\n",
       "          )\n",
       "          (output): ViTSelfOutput(\n",
       "            (dense): Linear(in_features=768, out_features=768, bias=True)\n",
       "            (dropout): Dropout(p=0.0, inplace=False)\n",
       "          )\n",
       "        )\n",
       "        (intermediate): ViTIntermediate(\n",
       "          (dense): Linear(in_features=768, out_features=3072, bias=True)\n",
       "          (intermediate_act_fn): GELUActivation()\n",
       "        )\n",
       "        (output): ViTOutput(\n",
       "          (dense): Linear(in_features=3072, out_features=768, bias=True)\n",
       "          (dropout): Dropout(p=0.0, inplace=False)\n",
       "        )\n",
       "        (layernorm_before): LayerNorm((768,), eps=1e-12, elementwise_affine=True)\n",
       "        (layernorm_after): LayerNorm((768,), eps=1e-12, elementwise_affine=True)\n",
       "      )\n",
       "    )\n",
       "  )\n",
       "  (layernorm): LayerNorm((768,), eps=1e-12, elementwise_affine=True)\n",
       "  (pooler): ViTPooler(\n",
       "    (dense): Linear(in_features=768, out_features=768, bias=True)\n",
       "    (activation): Tanh()\n",
       "  )\n",
       ")"
      ]
     },
     "execution_count": 3,
     "metadata": {},
     "output_type": "execute_result"
    }
   ],
   "source": [
    "# Configuration\n",
    "MODEL_NAME = \"google/vit-base-patch16-224\"\n",
    "REGISTERED_DIR = \"registered_faces\"\n",
    "ATTENDANCE_CSV = \"attendance_log.csv\"\n",
    "SIMILARITY_THRESHOLD = 0.7\n",
    "\n",
    "device = torch.device(\"cuda\" if torch.cuda.is_available() else \"cpu\")\n",
    "extractor = AutoFeatureExtractor.from_pretrained(\"google/vit-base-patch16-224\")\n",
    "model = AutoModel.from_pretrained(\"google/vit-base-patch16-224\").to(device)\n",
    "model.eval()"
   ]
  },
  {
   "cell_type": "code",
   "execution_count": 4,
   "id": "a093dfd5-ad16-4286-90c9-695cd1b6d23b",
   "metadata": {},
   "outputs": [],
   "source": [
    "# Utils\n",
    "def preprocess_image(image):\n",
    "    return extractor(images=image, return_tensors=\"pt\")[\"pixel_values\"].to(device)\n",
    "\n",
    "def get_embedding(image):\n",
    "    inputs = preprocess_image(image)\n",
    "    with torch.no_grad():\n",
    "        outputs = model(inputs)\n",
    "    emb = outputs.last_hidden_state[:, 0, :].cpu().numpy()\n",
    "    return emb[0]\n",
    "\n",
    "def load_registered_embeddings():\n",
    "    embeddings = []\n",
    "    names = []\n",
    "    for person in os.listdir(REGISTERED_DIR):\n",
    "        person_dir = os.path.join(REGISTERED_DIR, person)\n",
    "        if not os.path.isdir(person_dir):\n",
    "            continue\n",
    "        for img_file in os.listdir(person_dir):\n",
    "            img_path = os.path.join(person_dir, img_file)\n",
    "            img = Image.open(img_path).convert(\"RGB\")\n",
    "            emb = get_embedding(img)\n",
    "            embeddings.append(emb)\n",
    "            names.append(person)\n",
    "    return np.array(embeddings), names\n",
    "\n",
    "def mark_attendance(name):\n",
    "    now = datetime.now()\n",
    "    date_str = now.strftime('%Y-%m-%d')\n",
    "    time_str = now.strftime('%H:%M:%S')\n",
    "    if os.path.exists(ATTENDANCE_CSV):\n",
    "        df = pd.read_csv(ATTENDANCE_CSV)\n",
    "        if ((df['Name'] == name) & (df['Date'] == date_str)).any():\n",
    "            return\n",
    "    else:\n",
    "        df = pd.DataFrame(columns=['Name', 'Date', 'Time'])\n",
    "    df = df.append({'Name': name, 'Date': date_str, 'Time': time_str}, ignore_index=True)\n",
    "    df.to_csv(ATTENDANCE_CSV, index=False)\n",
    "\n",
    "def cosine_similarity(a, b):\n",
    "    a = a / np.linalg.norm(a)\n",
    "    b = b / np.linalg.norm(b)\n",
    "    return np.dot(a, b)"
   ]
  },
  {
   "cell_type": "code",
   "execution_count": 5,
   "id": "11f9f4a5-d39f-48a2-9821-762d3014fbcc",
   "metadata": {},
   "outputs": [
    {
     "name": "stderr",
     "output_type": "stream",
     "text": [
      "2025-07-08 17:19:24.875 WARNING streamlit.runtime.scriptrunner_utils.script_run_context: Thread 'MainThread': missing ScriptRunContext! This warning can be ignored when running in bare mode.\n",
      "2025-07-08 17:19:36.470 \n",
      "  \u001b[33m\u001b[1mWarning:\u001b[0m to view this Streamlit app on a browser, run it with the following\n",
      "  command:\n",
      "\n",
      "    streamlit run /mnt/d/ML/Projects/smart-face-recognition-attendance-system/facenet-env/lib/python3.12/site-packages/ipykernel_launcher.py [ARGUMENTS]\n",
      "2025-07-08 17:19:36.471 Thread 'MainThread': missing ScriptRunContext! This warning can be ignored when running in bare mode.\n",
      "2025-07-08 17:19:36.472 Thread 'MainThread': missing ScriptRunContext! This warning can be ignored when running in bare mode.\n",
      "2025-07-08 17:19:36.473 Thread 'MainThread': missing ScriptRunContext! This warning can be ignored when running in bare mode.\n",
      "2025-07-08 17:19:36.473 Thread 'MainThread': missing ScriptRunContext! This warning can be ignored when running in bare mode.\n",
      "2025-07-08 17:19:36.474 Thread 'MainThread': missing ScriptRunContext! This warning can be ignored when running in bare mode.\n",
      "2025-07-08 17:19:36.475 Thread 'MainThread': missing ScriptRunContext! This warning can be ignored when running in bare mode.\n",
      "2025-07-08 17:19:36.475 Session state does not function when running a script without `streamlit run`\n",
      "2025-07-08 17:19:36.478 Thread 'MainThread': missing ScriptRunContext! This warning can be ignored when running in bare mode.\n",
      "2025-07-08 17:19:36.478 Thread 'MainThread': missing ScriptRunContext! This warning can be ignored when running in bare mode.\n",
      "2025-07-08 17:19:36.479 Thread 'MainThread': missing ScriptRunContext! This warning can be ignored when running in bare mode.\n",
      "2025-07-08 17:19:36.480 Thread 'MainThread': missing ScriptRunContext! This warning can be ignored when running in bare mode.\n",
      "2025-07-08 17:19:36.480 Thread 'MainThread': missing ScriptRunContext! This warning can be ignored when running in bare mode.\n",
      "2025-07-08 17:19:36.481 Thread 'MainThread': missing ScriptRunContext! This warning can be ignored when running in bare mode.\n",
      "2025-07-08 17:19:36.482 Thread 'MainThread': missing ScriptRunContext! This warning can be ignored when running in bare mode.\n",
      "2025-07-08 17:19:36.482 Thread 'MainThread': missing ScriptRunContext! This warning can be ignored when running in bare mode.\n",
      "2025-07-08 17:19:36.483 Thread 'MainThread': missing ScriptRunContext! This warning can be ignored when running in bare mode.\n",
      "2025-07-08 17:19:36.484 Thread 'MainThread': missing ScriptRunContext! This warning can be ignored when running in bare mode.\n",
      "2025-07-08 17:19:36.484 Thread 'MainThread': missing ScriptRunContext! This warning can be ignored when running in bare mode.\n",
      "2025-07-08 17:19:36.485 Thread 'MainThread': missing ScriptRunContext! This warning can be ignored when running in bare mode.\n"
     ]
    }
   ],
   "source": [
    "# StreamLit\n",
    "st.title(\"Smart Attendance System with HuggingFace ViT \\U0001F4BB\")\n",
    "option = st.selectbox(\"Choose an Option\", [\"Run Attendance\", \"View Attendance Log\"])\n",
    "\n",
    "if option == \"Run Attendance\":\n",
    "    st.info(\"Turn on camera and align your face...\")\n",
    "    run = st.button(\"Start Attendance\")\n",
    "    if run:\n",
    "        reg_embeddings, reg_names = load_registered_embeddings()\n",
    "        cap = cv2.VideoCapture(0)\n",
    "        stframe = st.empty()\n",
    "\n",
    "        while True:\n",
    "            ret, frame = cap.read()\n",
    "            if not ret:\n",
    "                break\n",
    "            rgb = cv2.cvtColor(frame, cv2.COLOR_BGR2RGB)\n",
    "            face_img = Image.fromarray(rgb)\n",
    "            emb = get_embedding(face_img)\n",
    "\n",
    "            # Compare with registered\n",
    "            similarities = [cosine_similarity(emb, reg_emb) for reg_emb in reg_embeddings]\n",
    "            max_idx = np.argmax(similarities)\n",
    "            max_sim = similarities[max_idx]\n",
    "\n",
    "            if max_sim > SIMILARITY_THRESHOLD:\n",
    "                name = reg_names[max_idx]\n",
    "                mark_attendance(name)\n",
    "                color = (0, 255, 0)\n",
    "            else:\n",
    "                name = \"Unknown\"\n",
    "                color = (0, 0, 255)\n",
    "\n",
    "            cv2.putText(frame, f\"{name} ({max_sim:.2f})\", (10, 30), cv2.FONT_HERSHEY_SIMPLEX, 1, color, 2)\n",
    "            stframe.image(cv2.cvtColor(frame, cv2.COLOR_BGR2RGB))\n",
    "\n",
    "            if cv2.waitKey(1) & 0xFF == ord('q'):\n",
    "                break\n",
    "\n",
    "        cap.release()\n",
    "        cv2.destroyAllWindows()\n",
    "\n",
    "elif option == \"View Attendance Log\":\n",
    "    if os.path.exists(ATTENDANCE_CSV):\n",
    "        df = pd.read_csv(ATTENDANCE_CSV)\n",
    "        st.dataframe(df)\n",
    "    else:\n",
    "        st.warning(\"No attendance log found yet.\")"
   ]
  }
 ],
 "metadata": {
  "kernelspec": {
   "display_name": "Python 3 (ipykernel)",
   "language": "python",
   "name": "python3"
  },
  "language_info": {
   "codemirror_mode": {
    "name": "ipython",
    "version": 3
   },
   "file_extension": ".py",
   "mimetype": "text/x-python",
   "name": "python",
   "nbconvert_exporter": "python",
   "pygments_lexer": "ipython3",
   "version": "3.12.3"
  }
 },
 "nbformat": 4,
 "nbformat_minor": 5
}
