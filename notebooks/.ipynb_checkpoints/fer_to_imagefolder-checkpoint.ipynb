{
 "cells": [
  {
   "cell_type": "code",
   "execution_count": 5,
   "id": "203bab08-4089-4f1e-ab45-ffabe930d575",
   "metadata": {},
   "outputs": [],
   "source": [
    "# Imports\n",
    "import os\n",
    "import pandas as pd\n",
    "import numpy as np\n",
    "from PIL import Image"
   ]
  },
  {
   "cell_type": "code",
   "execution_count": 6,
   "id": "a6fbfef9-9017-4df5-afab-e0f44d53ab2f",
   "metadata": {},
   "outputs": [],
   "source": [
    "# Paths\n",
    "CSV_PATH = \"../emotions_csv/fer2013.csv\"\n",
    "SAVE_DIR = \"../emotions_data\"\n",
    "\n",
    "# FER2013 emotion labels\n",
    "emotion_labels = {\n",
    "    0: \"Angry\",\n",
    "    1: \"Disgust\",\n",
    "    2: \"Fear\",\n",
    "    3: \"Happy\",\n",
    "    4: \"Sad\",\n",
    "    5: \"Surprise\",\n",
    "    6: \"Neutral\"\n",
    "}"
   ]
  },
  {
   "cell_type": "code",
   "execution_count": 7,
   "id": "b6e090d2-d1e9-48d8-b4c3-13b65ecfa1dc",
   "metadata": {},
   "outputs": [],
   "source": [
    "# Create directories\n",
    "os.makedirs(SAVE_DIR, exist_ok=True)\n",
    "for label in emotion_labels.values():\n",
    "    os.makedirs(os.path.join(SAVE_DIR, label), exist_ok=True)"
   ]
  },
  {
   "cell_type": "code",
   "execution_count": 8,
   "id": "4eba99c6-5286-4dd6-84c6-d81f90742816",
   "metadata": {},
   "outputs": [
    {
     "name": "stdout",
     "output_type": "stream",
     "text": [
      "Total samples: 35887\n"
     ]
    }
   ],
   "source": [
    "# Load CSV\n",
    "df = pd.read_csv(CSV_PATH)\n",
    "print(\"Total samples:\", len(df))"
   ]
  },
  {
   "cell_type": "code",
   "execution_count": 9,
   "id": "98e708f1-91c9-4591-ad96-77816b79371c",
   "metadata": {},
   "outputs": [
    {
     "name": "stdout",
     "output_type": "stream",
     "text": [
      "Processed 0 images\n",
      "Processed 1000 images\n",
      "Processed 2000 images\n",
      "Processed 3000 images\n",
      "Processed 4000 images\n",
      "Processed 5000 images\n",
      "Processed 6000 images\n",
      "Processed 7000 images\n",
      "Processed 8000 images\n",
      "Processed 9000 images\n",
      "Processed 10000 images\n",
      "Processed 11000 images\n",
      "Processed 12000 images\n",
      "Processed 13000 images\n",
      "Processed 14000 images\n",
      "Processed 15000 images\n",
      "Processed 16000 images\n",
      "Processed 17000 images\n",
      "Processed 18000 images\n",
      "Processed 19000 images\n",
      "Processed 20000 images\n",
      "Processed 21000 images\n",
      "Processed 22000 images\n",
      "Processed 23000 images\n",
      "Processed 24000 images\n",
      "Processed 25000 images\n",
      "Processed 26000 images\n",
      "Processed 27000 images\n",
      "Processed 28000 images\n",
      "Processed 29000 images\n",
      "Processed 30000 images\n",
      "Processed 31000 images\n",
      "Processed 32000 images\n",
      "Processed 33000 images\n",
      "Processed 34000 images\n",
      "Processed 35000 images\n",
      "Conversion complete.\n"
     ]
    }
   ],
   "source": [
    "# Convert each row to image\n",
    "for idx, row in df.iterrows():\n",
    "    pixels = np.array(row['pixels'].split(), dtype=np.uint8).reshape(48, 48)\n",
    "    emotion = emotion_labels[int(row['emotion'])]\n",
    "    img = Image.fromarray(pixels).convert(\"L\").resize((224, 224))\n",
    "    img = img.convert(\"RGB\")\n",
    "\n",
    "    img_name = f\"{emotion}_{idx}.jpg\"\n",
    "    img_path = os.path.join(SAVE_DIR, emotion, img_name)\n",
    "    img.save(img_path)\n",
    "\n",
    "    if idx % 1000 == 0:\n",
    "        print(f\"Processed {idx} images\")\n",
    "\n",
    "print(\"Conversion complete.\")"
   ]
  }
 ],
 "metadata": {
  "kernelspec": {
   "display_name": "Python 3 (ipykernel)",
   "language": "python",
   "name": "python3"
  },
  "language_info": {
   "codemirror_mode": {
    "name": "ipython",
    "version": 3
   },
   "file_extension": ".py",
   "mimetype": "text/x-python",
   "name": "python",
   "nbconvert_exporter": "python",
   "pygments_lexer": "ipython3",
   "version": "3.12.3"
  }
 },
 "nbformat": 4,
 "nbformat_minor": 5
}
